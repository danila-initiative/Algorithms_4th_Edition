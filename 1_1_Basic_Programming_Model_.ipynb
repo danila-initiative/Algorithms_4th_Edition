{
  "nbformat": 4,
  "nbformat_minor": 0,
  "metadata": {
    "colab": {
      "provenance": [],
      "authorship_tag": "ABX9TyOgym34SLSX6QRFmS0eTQfK",
      "include_colab_link": true
    },
    "kernelspec": {
      "name": "python3",
      "display_name": "Python 3"
    },
    "language_info": {
      "name": "python"
    }
  },
  "cells": [
    {
      "cell_type": "markdown",
      "metadata": {
        "id": "view-in-github",
        "colab_type": "text"
      },
      "source": [
        "<a href=\"https://colab.research.google.com/github/danila-initiative/Algorithms_4th_Edition/blob/main/1_1_Basic_Programming_Model_.ipynb\" target=\"_parent\"><img src=\"https://colab.research.google.com/assets/colab-badge.svg\" alt=\"Open In Colab\"/></a>"
      ]
    },
    {
      "cell_type": "code",
      "source": [
        "import typing as tp\n",
        "import datetime"
      ],
      "metadata": {
        "id": "AcrQVUdauGRq"
      },
      "execution_count": 1,
      "outputs": []
    },
    {
      "cell_type": "markdown",
      "source": [
        "### 1.1.1 Give the value of each of the following expressions  \n",
        "\n",
        "a. ( 0 + 15 ) / 2  \n",
        "b. 2.0e-6 * 100000000.1  \n",
        "c. true && false || true && true."
      ],
      "metadata": {
        "id": "Q6csjP2GrZ8l"
      }
    },
    {
      "cell_type": "code",
      "execution_count": 2,
      "metadata": {
        "id": "zNTLIPpKZlPx",
        "colab": {
          "base_uri": "https://localhost:8080/"
        },
        "outputId": "bd262802-ada9-4edf-ba3b-0a77bf3e242a"
      },
      "outputs": [
        {
          "output_type": "execute_result",
          "data": {
            "text/plain": [
              "7.5"
            ]
          },
          "metadata": {},
          "execution_count": 2
        }
      ],
      "source": [
        "# a\n",
        "(0 + 15) / 2"
      ]
    },
    {
      "cell_type": "code",
      "source": [
        "# b\n",
        "2.0e-6 * 100000000.1"
      ],
      "metadata": {
        "colab": {
          "base_uri": "https://localhost:8080/"
        },
        "id": "bDf-8Rkhr0LG",
        "outputId": "9e0e11d5-27cd-4d6a-d9e6-65b3a829c433"
      },
      "execution_count": 4,
      "outputs": [
        {
          "output_type": "execute_result",
          "data": {
            "text/plain": [
              "200.0000002"
            ]
          },
          "metadata": {},
          "execution_count": 4
        }
      ]
    },
    {
      "cell_type": "code",
      "source": [
        "# c\n",
        "True and False or True and True"
      ],
      "metadata": {
        "colab": {
          "base_uri": "https://localhost:8080/"
        },
        "id": "O8RafcABrzvv",
        "outputId": "e74d77a7-1587-4901-c358-57503211dd37"
      },
      "execution_count": 5,
      "outputs": [
        {
          "output_type": "execute_result",
          "data": {
            "text/plain": [
              "True"
            ]
          },
          "metadata": {},
          "execution_count": 5
        }
      ]
    },
    {
      "cell_type": "markdown",
      "source": [
        "### 1.1.2 Give the type and value of each of the following expressions:\n",
        "a. (1 + 2.236)/2  \n",
        "b. 1 + 2 + 3 + 4.0  \n",
        "c. 4.1 >= 4  \n",
        "d. 1 + 2 + \"3\"  "
      ],
      "metadata": {
        "id": "1-UueTtGrX6Y"
      }
    },
    {
      "cell_type": "code",
      "source": [
        "# a\n",
        "result = (1 + 2.236) / 2\n",
        "\n",
        "print(type(result))\n",
        "print(result)"
      ],
      "metadata": {
        "colab": {
          "base_uri": "https://localhost:8080/"
        },
        "id": "cWMdOb3YsuHx",
        "outputId": "54a01328-5a67-43bc-a620-44ee90794e91"
      },
      "execution_count": 8,
      "outputs": [
        {
          "output_type": "stream",
          "name": "stdout",
          "text": [
            "<class 'float'>\n",
            "1.618\n"
          ]
        }
      ]
    },
    {
      "cell_type": "code",
      "source": [
        "# b\n",
        "result = 1 + 2 + 3 + 4.0\n",
        "\n",
        "print(type(result))\n",
        "print(result)"
      ],
      "metadata": {
        "colab": {
          "base_uri": "https://localhost:8080/"
        },
        "id": "WRf668yrst4k",
        "outputId": "ad125312-9ae7-497b-9895-0f5f81e7a181"
      },
      "execution_count": 9,
      "outputs": [
        {
          "output_type": "stream",
          "name": "stdout",
          "text": [
            "<class 'float'>\n",
            "10.0\n"
          ]
        }
      ]
    },
    {
      "cell_type": "code",
      "source": [
        "# c\n",
        "result = 4.1 >= 4\n",
        "\n",
        "print(type(result))\n",
        "print(result)"
      ],
      "metadata": {
        "colab": {
          "base_uri": "https://localhost:8080/"
        },
        "id": "ZMZu13Bnst1L",
        "outputId": "746ef942-2d79-44d4-b2e1-07c7682e3b02"
      },
      "execution_count": 10,
      "outputs": [
        {
          "output_type": "stream",
          "name": "stdout",
          "text": [
            "<class 'bool'>\n",
            "True\n"
          ]
        }
      ]
    },
    {
      "cell_type": "code",
      "source": [
        "# d\n",
        "result = 1 + 2 + \"3\"\n",
        "\n",
        "print(type(result))\n",
        "print(result)"
      ],
      "metadata": {
        "colab": {
          "base_uri": "https://localhost:8080/",
          "height": 254
        },
        "id": "yQfj9iPwstvD",
        "outputId": "705eb11b-1ded-4656-f9a0-e17c7198dfd7"
      },
      "execution_count": 11,
      "outputs": [
        {
          "output_type": "error",
          "ename": "TypeError",
          "evalue": "ignored",
          "traceback": [
            "\u001b[0;31m---------------------------------------------------------------------------\u001b[0m",
            "\u001b[0;31mTypeError\u001b[0m                                 Traceback (most recent call last)",
            "\u001b[0;32m<ipython-input-11-85ad3008c2ed>\u001b[0m in \u001b[0;36m<cell line: 2>\u001b[0;34m()\u001b[0m\n\u001b[1;32m      1\u001b[0m \u001b[0;31m# d\u001b[0m\u001b[0;34m\u001b[0m\u001b[0;34m\u001b[0m\u001b[0m\n\u001b[0;32m----> 2\u001b[0;31m \u001b[0mresult\u001b[0m \u001b[0;34m=\u001b[0m \u001b[0;36m1\u001b[0m \u001b[0;34m+\u001b[0m \u001b[0;36m2\u001b[0m \u001b[0;34m+\u001b[0m \u001b[0;34m\"3\"\u001b[0m\u001b[0;34m\u001b[0m\u001b[0;34m\u001b[0m\u001b[0m\n\u001b[0m\u001b[1;32m      3\u001b[0m \u001b[0;34m\u001b[0m\u001b[0m\n\u001b[1;32m      4\u001b[0m \u001b[0mprint\u001b[0m\u001b[0;34m(\u001b[0m\u001b[0mtype\u001b[0m\u001b[0;34m(\u001b[0m\u001b[0mresult\u001b[0m\u001b[0;34m)\u001b[0m\u001b[0;34m)\u001b[0m\u001b[0;34m\u001b[0m\u001b[0;34m\u001b[0m\u001b[0m\n\u001b[1;32m      5\u001b[0m \u001b[0mprint\u001b[0m\u001b[0;34m(\u001b[0m\u001b[0mresult\u001b[0m\u001b[0;34m)\u001b[0m\u001b[0;34m\u001b[0m\u001b[0;34m\u001b[0m\u001b[0m\n",
            "\u001b[0;31mTypeError\u001b[0m: unsupported operand type(s) for +: 'int' and 'str'"
          ]
        }
      ]
    },
    {
      "cell_type": "markdown",
      "source": [
        "1.1.5 Write a code fragment that prints true if the double variables x and y are both strictly between 0 and 1 and false otherwise."
      ],
      "metadata": {
        "id": "EF5zVZ-0rUI2"
      }
    },
    {
      "cell_type": "code",
      "source": [
        "def ex_1_1_5(x: float, y: float):\n",
        "  if 0 < x < 1 and 0 < y < 1:\n",
        "    return True\n",
        "  return False\n",
        "\n",
        "print(ex_1_1_5(3, 4))\n",
        "print(ex_1_1_5(-1.0, -2.0))\n",
        "print(ex_1_1_5(-0.7, 0.2))\n",
        "print(ex_1_1_5(0.6, 1.4))\n",
        "print(ex_1_1_5(0.1, 0.9999))"
      ],
      "metadata": {
        "colab": {
          "base_uri": "https://localhost:8080/"
        },
        "id": "ebstHDTat4b0",
        "outputId": "e8c4f0dd-6379-49a8-c0f4-19f7e45a1712"
      },
      "execution_count": 17,
      "outputs": [
        {
          "output_type": "stream",
          "name": "stdout",
          "text": [
            "False\n",
            "False\n",
            "False\n",
            "False\n",
            "True\n"
          ]
        }
      ]
    },
    {
      "cell_type": "markdown",
      "source": [
        "### 1.1.6 What does the following program print?\n",
        "```Java\n",
        "    int f = 0;\n",
        "    int g = 1;\n",
        "    for (int i = 0; i <= 15; i++)\n",
        "    {\n",
        "       StdOut.println(f);\n",
        "       f = f + g;\n",
        "       g = f - g;\n",
        "    }\n",
        "```"
      ],
      "metadata": {
        "id": "3mh-olMdvV5-"
      }
    },
    {
      "cell_type": "code",
      "source": [
        "f: int = 0\n",
        "g: int = 1\n",
        "\n",
        "for _ in range(16):\n",
        "  print(f)\n",
        "  f = f + g\n",
        "  g = f - g"
      ],
      "metadata": {
        "colab": {
          "base_uri": "https://localhost:8080/"
        },
        "id": "iiAn9VjvuRgc",
        "outputId": "f6a7583b-90c4-4ac9-df5b-f8e83308baee"
      },
      "execution_count": 21,
      "outputs": [
        {
          "output_type": "stream",
          "name": "stdout",
          "text": [
            "0\n",
            "1\n",
            "1\n",
            "2\n",
            "3\n",
            "5\n",
            "8\n",
            "13\n",
            "21\n",
            "34\n",
            "55\n",
            "89\n",
            "144\n",
            "233\n",
            "377\n",
            "610\n"
          ]
        }
      ]
    },
    {
      "cell_type": "markdown",
      "source": [
        "### 1.1.7 Give the value printed by each of the following code fragments:\n",
        "a.\n",
        "```Java\n",
        "double t = 9.0;  \n",
        "while (Math.abs(t - 9.0/t) > .001)  \n",
        "   t = (9.0/t + t) / 2.0;  \n",
        "StdOut.printf(\"%.5f\\n\", t);  \n",
        "```\n",
        "\n",
        "b.\n",
        "```Java\n",
        "int sum = 0;\n",
        "for (int i = 1; i < 1000; i++)\n",
        "        for (int j = 0; j < i; j++)\n",
        "            sum++;\n",
        "StdOut.println(sum);\n",
        "```\n",
        "\n",
        "c.\n",
        "```Java\n",
        "int sum = 0;\n",
        "for (int i = 1; i < 1000; i *= 2)\n",
        "       for (int j = 0; j < i; j++)\n",
        "\n",
        "1.   Новый пункт\n",
        "2.   Новый пункт\n",
        "\n",
        "\n",
        "           sum++;\n",
        "StdOut.println(sum);\n",
        "```"
      ],
      "metadata": {
        "id": "UWkzbP7s0NpL"
      }
    },
    {
      "cell_type": "code",
      "source": [
        "# a\n",
        "t: float = 9.0\n",
        "while abs(t - 9.0/t) > .001:\n",
        "  t = (9.0/t + t) / 2.0\n",
        "\n",
        "print(\"{:.5f}\".format(t))\n"
      ],
      "metadata": {
        "colab": {
          "base_uri": "https://localhost:8080/"
        },
        "id": "zkjGsuYFzXH8",
        "outputId": "a7f1f3d5-a125-4463-b481-bddcce3670f5"
      },
      "execution_count": 24,
      "outputs": [
        {
          "output_type": "stream",
          "name": "stdout",
          "text": [
            "3.00009\n"
          ]
        }
      ]
    },
    {
      "cell_type": "code",
      "source": [
        "# b\n",
        "b: int = 0\n",
        "for i in range(1, 1000):\n",
        "  for j in range(i):\n",
        "    b += 1\n",
        "\n",
        "print(b)\n"
      ],
      "metadata": {
        "colab": {
          "base_uri": "https://localhost:8080/"
        },
        "id": "S2bf0XAr1kOX",
        "outputId": "a4194117-cf6f-44a7-dc44-1cb7684993cf"
      },
      "execution_count": 26,
      "outputs": [
        {
          "output_type": "stream",
          "name": "stdout",
          "text": [
            "499500\n"
          ]
        }
      ]
    },
    {
      "cell_type": "code",
      "source": [
        "# c\n",
        "sum: int = 0\n",
        "i = 1\n",
        "while i < 1000:\n",
        "  for j in range(i):\n",
        "    sum += 1\n",
        "  i *= 2\n",
        "\n",
        "print(sum)\n"
      ],
      "metadata": {
        "colab": {
          "base_uri": "https://localhost:8080/"
        },
        "id": "7M1VQLsH2VAe",
        "outputId": "1c76ce63-f5ba-4a41-9bcb-3ff2a78f73c6"
      },
      "execution_count": 29,
      "outputs": [
        {
          "output_type": "stream",
          "name": "stdout",
          "text": [
            "1023\n"
          ]
        }
      ]
    },
    {
      "cell_type": "markdown",
      "source": [
        "### 1.1.9 Write a code fragment that puts the binary representation of a positive integer N into a String s."
      ],
      "metadata": {
        "id": "olyPajid9Yiw"
      }
    },
    {
      "cell_type": "code",
      "source": [
        "# build in\n",
        "print(bin(33))\n",
        "print(bin(34))"
      ],
      "metadata": {
        "colab": {
          "base_uri": "https://localhost:8080/"
        },
        "id": "_SEQfBNk4Ban",
        "outputId": "ccafe8af-4dc7-4a45-e0ff-9d10d692b71e"
      },
      "execution_count": 5,
      "outputs": [
        {
          "output_type": "stream",
          "name": "stdout",
          "text": [
            "0b100001\n",
            "0b100010\n"
          ]
        }
      ]
    },
    {
      "cell_type": "code",
      "source": [
        "def num_to_bin(N: int) -> str:\n",
        "  result = \"\"\n",
        "  n = N\n",
        "  while n > 0:\n",
        "    result = str(n % 2) + result\n",
        "    n = n // 2\n",
        "\n",
        "  return result\n",
        "\n",
        "print(num_to_bin(33))\n",
        "print(num_to_bin(34))"
      ],
      "metadata": {
        "colab": {
          "base_uri": "https://localhost:8080/"
        },
        "id": "Wrq2tQk69yp3",
        "outputId": "cf8abc6b-4d7f-43be-d666-b7b9086aad8b"
      },
      "execution_count": 7,
      "outputs": [
        {
          "output_type": "stream",
          "name": "stdout",
          "text": [
            "100001\n",
            "100010\n"
          ]
        }
      ]
    },
    {
      "cell_type": "markdown",
      "source": [
        "### 1.1.11 Write a code fragment that prints the contents of a two-dimensional boolean array, using * to represent true and a space to represent false. Include row and column numbers."
      ],
      "metadata": {
        "id": "Oabpyi1L_j3G"
      }
    },
    {
      "cell_type": "code",
      "source": [
        "def print_array(b_list: list[list[bool]]) -> None:\n",
        "  for row in b_list:\n",
        "    [print(\"*\", end=\"\") if el else  print(\" \", end=\"\") for el in row]\n",
        "    print()\n",
        "\n",
        "test_array = [[True, False, True], [False, True, False], [True, False, True]]\n",
        "print_array(test_array)"
      ],
      "metadata": {
        "colab": {
          "base_uri": "https://localhost:8080/"
        },
        "id": "FtWVKkvh-X4b",
        "outputId": "e5a6dbe8-78db-460a-951a-021166e3a343"
      },
      "execution_count": 18,
      "outputs": [
        {
          "output_type": "stream",
          "name": "stdout",
          "text": [
            "* *\n",
            " * \n",
            "* *\n"
          ]
        }
      ]
    },
    {
      "cell_type": "markdown",
      "source": [
        "### 1.1.13 Write a code fragment to print the transposition (rows and columns changed) of a two-dimensional array with M rows and N columns."
      ],
      "metadata": {
        "id": "UwfeVo-NBgqR"
      }
    },
    {
      "cell_type": "code",
      "source": [
        "def transpose_array(init_array: list[list[tp.Any]], M: int, N: int):\n",
        "  for i in range(N):\n",
        "    for j in range(M):\n",
        "      print(init_array[j][i], end=\" \")\n",
        "    print()\n",
        "\n",
        "test_array = [[1, 2],\n",
        "              [3, 4],\n",
        "              [5, 6]]\n",
        "\n",
        "transpose_array(test_array, 3, 2)"
      ],
      "metadata": {
        "colab": {
          "base_uri": "https://localhost:8080/"
        },
        "id": "_GTJbQ6v_PTy",
        "outputId": "e2b6c293-c652-4e18-e2f6-2b70bcb51207"
      },
      "execution_count": 26,
      "outputs": [
        {
          "output_type": "stream",
          "name": "stdout",
          "text": [
            "1 3 5 \n",
            "2 4 6 \n"
          ]
        }
      ]
    },
    {
      "cell_type": "markdown",
      "source": [
        "### 1.1.15 Write a static method `histogram()` that takes an `array a[]` of int values and an integer M as arguments and returns an array of length M whose `i-th` entry is the number of times the integer i appeared in the argument array. If the values in `a[]` are all between 0 and `M–1`, the sum of the values in the returned array should be equal to `a.length`."
      ],
      "metadata": {
        "id": "cfprw78QFDnn"
      }
    },
    {
      "cell_type": "code",
      "source": [
        "def histogram(array: list[int], M: int):\n",
        "  result = [0] * M\n",
        "  for i in array:\n",
        "    if 0 <= i < M:\n",
        "      result[i] += 1\n",
        "\n",
        "  return result\n",
        "\n",
        "\n",
        "test_array = [1, 2, 3, 1, 2, 1, 5, 6, 4, 4, -3]\n",
        "print(histogram(test_array, 5))"
      ],
      "metadata": {
        "colab": {
          "base_uri": "https://localhost:8080/"
        },
        "id": "xF_NglHlB2cB",
        "outputId": "af476e10-ba1d-451a-cb17-bbbe967e4215"
      },
      "execution_count": 34,
      "outputs": [
        {
          "output_type": "stream",
          "name": "stdout",
          "text": [
            "[0, 3, 2, 1, 2]\n"
          ]
        }
      ]
    },
    {
      "cell_type": "markdown",
      "source": [
        "### 1.1.16 Give the value of `exR1(6)`:\n",
        "```Java\n",
        "    public static String exR1(int n)\n",
        "    {\n",
        "       if (n <= 0) return \"\";\n",
        "       return exR1(n-3) + n + exR1(n-2) + n;\n",
        "    }\n",
        "```\n"
      ],
      "metadata": {
        "id": "wf9Q4J1QHBbc"
      }
    },
    {
      "cell_type": "code",
      "source": [
        "def  exR1(n: int) -> str:\n",
        "  if n <= 0:\n",
        "    return 0\n",
        "  return exR1(n-3) + n + exR1(n-2) + n\n",
        "\n",
        "exR1(6)"
      ],
      "metadata": {
        "colab": {
          "base_uri": "https://localhost:8080/"
        },
        "id": "COB0s6pJF4X6",
        "outputId": "6c7fb16e-6728-41d9-eaa2-455fa4a7c5f3"
      },
      "execution_count": 35,
      "outputs": [
        {
          "output_type": "execute_result",
          "data": {
            "text/plain": [
              "34"
            ]
          },
          "metadata": {},
          "execution_count": 35
        }
      ]
    },
    {
      "cell_type": "code",
      "source": [
        "6 + 6 + 3 + 3 + 1 + 1 + 4 + 4 + 1 + 1 + 2 + 2"
      ],
      "metadata": {
        "colab": {
          "base_uri": "https://localhost:8080/"
        },
        "id": "9N_wkIs1Hb89",
        "outputId": "ceb85522-9446-4e89-e802-09fcb615ddcc"
      },
      "execution_count": 36,
      "outputs": [
        {
          "output_type": "execute_result",
          "data": {
            "text/plain": [
              "34"
            ]
          },
          "metadata": {},
          "execution_count": 36
        }
      ]
    },
    {
      "cell_type": "markdown",
      "source": [
        "### 1.1.18 Considerthefollowingrecursivefunction:\n",
        "```Java\n",
        "    public static int mystery(int a, int b)\n",
        "    {\n",
        "       if (b == 0)     return 0;\n",
        "       if (b % 2 == 0) return mystery(a+a, b/2);\n",
        "       return mystery(a+a, b/2) + a;\n",
        "}\n",
        "```\n",
        "What are the values of `mystery(2, 25)` and `mystery(3, 11)`? Given positive integers `a` and `b`,describe what value mystery(a, b)computes.Answerthesamequestion,but replace + with * and replace return 0 with return 1."
      ],
      "metadata": {
        "id": "BAKoXlkVuqGo"
      }
    },
    {
      "cell_type": "code",
      "source": [
        "def mystery(a: int, b:int):\n",
        "  if b == 0:\n",
        "    return 0\n",
        "  if b % 2 == 0:\n",
        "    return mystery(a + a, int(b/2))\n",
        "  return mystery(a + a, int(b/2)) + a\n",
        "\n",
        "print(mystery(2, 25))\n",
        "print(mystery(3, 11))"
      ],
      "metadata": {
        "colab": {
          "base_uri": "https://localhost:8080/"
        },
        "id": "uar1Vn1kIAfo",
        "outputId": "88d8c154-bf39-42f9-c503-7dd0646277df"
      },
      "execution_count": 2,
      "outputs": [
        {
          "output_type": "stream",
          "name": "stdout",
          "text": [
            "50\n",
            "33\n"
          ]
        }
      ]
    },
    {
      "cell_type": "code",
      "source": [
        "def mystery_2(a: int, b:int):\n",
        "  if b == 0:\n",
        "    return 1\n",
        "  if b % 2 == 0:\n",
        "    return mystery(a * a, int(b/2))\n",
        "  return mystery(a * a, int(b/2)) * a\n",
        "\n",
        "print(mystery_2(2, 25))\n",
        "print(mystery_2(3, 11))"
      ],
      "metadata": {
        "colab": {
          "base_uri": "https://localhost:8080/"
        },
        "id": "IcboBiQdvl_O",
        "outputId": "ab8cef88-a78a-4607-d219-2270c3135bf7"
      },
      "execution_count": 3,
      "outputs": [
        {
          "output_type": "stream",
          "name": "stdout",
          "text": [
            "96\n",
            "135\n"
          ]
        }
      ]
    },
    {
      "cell_type": "markdown",
      "source": [
        "### 1.1.19 Run the following program on your computer:\n",
        "```Java    \n",
        "public class Fibonacci\n",
        "{\n",
        "    public static long F(int N)\n",
        "    {\n",
        "      if (N == 0) return 0;\n",
        "      if (N == 1) return 1;\n",
        "      return F(N-1) + F(N-2);\n",
        "  }\n",
        "    public static void main(String[] args)\n",
        "    {\n",
        "      for (int N = 0; N < 100; N++)\n",
        "          StdOut.println(N + \" \" + F(N));\n",
        "    }\n",
        " }\n",
        "\n",
        "```\n",
        "What is the largest value of N for which this program takes less 1 hour to compute the value of `F(N)`? Develop a better implementation of `F(N)` that saves computed values in an array."
      ],
      "metadata": {
        "id": "clB9dHEX1S4q"
      }
    },
    {
      "cell_type": "code",
      "source": [
        "def fibonacci_1(n: int):\n",
        "  if n == 0:\n",
        "    return 0\n",
        "  if n == 1:\n",
        "    return 1\n",
        "  return fibonacci_1(n-1) + fibonacci_1(n-2)\n",
        "\n",
        "for i in range(40):\n",
        "  start = datetime.datetime.now()\n",
        "  print(i, fibonacci_1(i), end=\"   \")\n",
        "  duration = datetime.datetime.now() - start\n",
        "  print(duration.seconds, \",s\")"
      ],
      "metadata": {
        "colab": {
          "base_uri": "https://localhost:8080/"
        },
        "id": "3d2wHU9HwuXb",
        "outputId": "ff8c89b8-c583-41ac-d7a7-d363a261dbb3"
      },
      "execution_count": 10,
      "outputs": [
        {
          "output_type": "stream",
          "name": "stdout",
          "text": [
            "0 0   0 ,s\n",
            "1 1   0 ,s\n",
            "2 1   0 ,s\n",
            "3 2   0 ,s\n",
            "4 3   0 ,s\n",
            "5 5   0 ,s\n",
            "6 8   0 ,s\n",
            "7 13   0 ,s\n",
            "8 21   0 ,s\n",
            "9 34   0 ,s\n",
            "10 55   0 ,s\n",
            "11 89   0 ,s\n",
            "12 144   0 ,s\n",
            "13 233   0 ,s\n",
            "14 377   0 ,s\n",
            "15 610   0 ,s\n",
            "16 987   0 ,s\n",
            "17 1597   0 ,s\n",
            "18 2584   0 ,s\n",
            "19 4181   0 ,s\n",
            "20 6765   0 ,s\n",
            "21 10946   0 ,s\n",
            "22 17711   0 ,s\n",
            "23 28657   0 ,s\n",
            "24 46368   0 ,s\n",
            "25 75025   0 ,s\n",
            "26 121393   0 ,s\n",
            "27 196418   0 ,s\n",
            "28 317811   0 ,s\n",
            "29 514229   0 ,s\n",
            "30 832040   0 ,s\n",
            "31 1346269   0 ,s\n",
            "32 2178309   1 ,s\n",
            "33 3524578   1 ,s\n",
            "34 5702887   2 ,s\n",
            "35 9227465   5 ,s\n",
            "36 14930352   7 ,s\n",
            "37 24157817   13 ,s\n",
            "38 39088169   21 ,s\n",
            "39 63245986   33 ,s\n"
          ]
        }
      ]
    },
    {
      "cell_type": "code",
      "source": [
        "def fibonacci_2(n: int):\n",
        "  result = [0, 1]\n",
        "  if n == 0:\n",
        "    return [0]\n",
        "  if n == 1:\n",
        "    return [0, 1]\n",
        "\n",
        "  for i in range(2, n+1):\n",
        "    result.append(result[i-1] + result[i-2])\n",
        "\n",
        "  return result\n",
        "\n",
        "for i in range(50):\n",
        "  start = datetime.datetime.now()\n",
        "  print(i, fibonacci_2(i), end=\"   \")\n",
        "  duration = datetime.datetime.now() - start\n",
        "  print(duration.seconds, \",s\")"
      ],
      "metadata": {
        "colab": {
          "base_uri": "https://localhost:8080/"
        },
        "id": "p3cYArxR3YvM",
        "outputId": "9209e7a0-5add-4d98-e5a4-ae86a0a9ca73"
      },
      "execution_count": 16,
      "outputs": [
        {
          "output_type": "stream",
          "name": "stdout",
          "text": [
            "0 [0]   0 ,s\n",
            "1 [0, 1]   0 ,s\n",
            "2 [0, 1, 1]   0 ,s\n",
            "3 [0, 1, 1, 2]   0 ,s\n",
            "4 [0, 1, 1, 2, 3]   0 ,s\n",
            "5 [0, 1, 1, 2, 3, 5]   0 ,s\n",
            "6 [0, 1, 1, 2, 3, 5, 8]   0 ,s\n",
            "7 [0, 1, 1, 2, 3, 5, 8, 13]   0 ,s\n",
            "8 [0, 1, 1, 2, 3, 5, 8, 13, 21]   0 ,s\n",
            "9 [0, 1, 1, 2, 3, 5, 8, 13, 21, 34]   0 ,s\n",
            "10 [0, 1, 1, 2, 3, 5, 8, 13, 21, 34, 55]   0 ,s\n",
            "11 [0, 1, 1, 2, 3, 5, 8, 13, 21, 34, 55, 89]   0 ,s\n",
            "12 [0, 1, 1, 2, 3, 5, 8, 13, 21, 34, 55, 89, 144]   0 ,s\n",
            "13 [0, 1, 1, 2, 3, 5, 8, 13, 21, 34, 55, 89, 144, 233]   0 ,s\n",
            "14 [0, 1, 1, 2, 3, 5, 8, 13, 21, 34, 55, 89, 144, 233, 377]   0 ,s\n",
            "15 [0, 1, 1, 2, 3, 5, 8, 13, 21, 34, 55, 89, 144, 233, 377, 610]   0 ,s\n",
            "16 [0, 1, 1, 2, 3, 5, 8, 13, 21, 34, 55, 89, 144, 233, 377, 610, 987]   0 ,s\n",
            "17 [0, 1, 1, 2, 3, 5, 8, 13, 21, 34, 55, 89, 144, 233, 377, 610, 987, 1597]   0 ,s\n",
            "18 [0, 1, 1, 2, 3, 5, 8, 13, 21, 34, 55, 89, 144, 233, 377, 610, 987, 1597, 2584]   0 ,s\n",
            "19 [0, 1, 1, 2, 3, 5, 8, 13, 21, 34, 55, 89, 144, 233, 377, 610, 987, 1597, 2584, 4181]   0 ,s\n",
            "20 [0, 1, 1, 2, 3, 5, 8, 13, 21, 34, 55, 89, 144, 233, 377, 610, 987, 1597, 2584, 4181, 6765]   0 ,s\n",
            "21 [0, 1, 1, 2, 3, 5, 8, 13, 21, 34, 55, 89, 144, 233, 377, 610, 987, 1597, 2584, 4181, 6765, 10946]   0 ,s\n",
            "22 [0, 1, 1, 2, 3, 5, 8, 13, 21, 34, 55, 89, 144, 233, 377, 610, 987, 1597, 2584, 4181, 6765, 10946, 17711]   0 ,s\n",
            "23 [0, 1, 1, 2, 3, 5, 8, 13, 21, 34, 55, 89, 144, 233, 377, 610, 987, 1597, 2584, 4181, 6765, 10946, 17711, 28657]   0 ,s\n",
            "24 [0, 1, 1, 2, 3, 5, 8, 13, 21, 34, 55, 89, 144, 233, 377, 610, 987, 1597, 2584, 4181, 6765, 10946, 17711, 28657, 46368]   0 ,s\n",
            "25 [0, 1, 1, 2, 3, 5, 8, 13, 21, 34, 55, 89, 144, 233, 377, 610, 987, 1597, 2584, 4181, 6765, 10946, 17711, 28657, 46368, 75025]   0 ,s\n",
            "26 [0, 1, 1, 2, 3, 5, 8, 13, 21, 34, 55, 89, 144, 233, 377, 610, 987, 1597, 2584, 4181, 6765, 10946, 17711, 28657, 46368, 75025, 121393]   0 ,s\n",
            "27 [0, 1, 1, 2, 3, 5, 8, 13, 21, 34, 55, 89, 144, 233, 377, 610, 987, 1597, 2584, 4181, 6765, 10946, 17711, 28657, 46368, 75025, 121393, 196418]   0 ,s\n",
            "28 [0, 1, 1, 2, 3, 5, 8, 13, 21, 34, 55, 89, 144, 233, 377, 610, 987, 1597, 2584, 4181, 6765, 10946, 17711, 28657, 46368, 75025, 121393, 196418, 317811]   0 ,s\n",
            "29 [0, 1, 1, 2, 3, 5, 8, 13, 21, 34, 55, 89, 144, 233, 377, 610, 987, 1597, 2584, 4181, 6765, 10946, 17711, 28657, 46368, 75025, 121393, 196418, 317811, 514229]   0 ,s\n",
            "30 [0, 1, 1, 2, 3, 5, 8, 13, 21, 34, 55, 89, 144, 233, 377, 610, 987, 1597, 2584, 4181, 6765, 10946, 17711, 28657, 46368, 75025, 121393, 196418, 317811, 514229, 832040]   0 ,s\n",
            "31 [0, 1, 1, 2, 3, 5, 8, 13, 21, 34, 55, 89, 144, 233, 377, 610, 987, 1597, 2584, 4181, 6765, 10946, 17711, 28657, 46368, 75025, 121393, 196418, 317811, 514229, 832040, 1346269]   0 ,s\n",
            "32 [0, 1, 1, 2, 3, 5, 8, 13, 21, 34, 55, 89, 144, 233, 377, 610, 987, 1597, 2584, 4181, 6765, 10946, 17711, 28657, 46368, 75025, 121393, 196418, 317811, 514229, 832040, 1346269, 2178309]   0 ,s\n",
            "33 [0, 1, 1, 2, 3, 5, 8, 13, 21, 34, 55, 89, 144, 233, 377, 610, 987, 1597, 2584, 4181, 6765, 10946, 17711, 28657, 46368, 75025, 121393, 196418, 317811, 514229, 832040, 1346269, 2178309, 3524578]   0 ,s\n",
            "34 [0, 1, 1, 2, 3, 5, 8, 13, 21, 34, 55, 89, 144, 233, 377, 610, 987, 1597, 2584, 4181, 6765, 10946, 17711, 28657, 46368, 75025, 121393, 196418, 317811, 514229, 832040, 1346269, 2178309, 3524578, 5702887]   0 ,s\n",
            "35 [0, 1, 1, 2, 3, 5, 8, 13, 21, 34, 55, 89, 144, 233, 377, 610, 987, 1597, 2584, 4181, 6765, 10946, 17711, 28657, 46368, 75025, 121393, 196418, 317811, 514229, 832040, 1346269, 2178309, 3524578, 5702887, 9227465]   0 ,s\n",
            "36 [0, 1, 1, 2, 3, 5, 8, 13, 21, 34, 55, 89, 144, 233, 377, 610, 987, 1597, 2584, 4181, 6765, 10946, 17711, 28657, 46368, 75025, 121393, 196418, 317811, 514229, 832040, 1346269, 2178309, 3524578, 5702887, 9227465, 14930352]   0 ,s\n",
            "37 [0, 1, 1, 2, 3, 5, 8, 13, 21, 34, 55, 89, 144, 233, 377, 610, 987, 1597, 2584, 4181, 6765, 10946, 17711, 28657, 46368, 75025, 121393, 196418, 317811, 514229, 832040, 1346269, 2178309, 3524578, 5702887, 9227465, 14930352, 24157817]   0 ,s\n",
            "38 [0, 1, 1, 2, 3, 5, 8, 13, 21, 34, 55, 89, 144, 233, 377, 610, 987, 1597, 2584, 4181, 6765, 10946, 17711, 28657, 46368, 75025, 121393, 196418, 317811, 514229, 832040, 1346269, 2178309, 3524578, 5702887, 9227465, 14930352, 24157817, 39088169]   0 ,s\n",
            "39 [0, 1, 1, 2, 3, 5, 8, 13, 21, 34, 55, 89, 144, 233, 377, 610, 987, 1597, 2584, 4181, 6765, 10946, 17711, 28657, 46368, 75025, 121393, 196418, 317811, 514229, 832040, 1346269, 2178309, 3524578, 5702887, 9227465, 14930352, 24157817, 39088169, 63245986]   0 ,s\n",
            "40 [0, 1, 1, 2, 3, 5, 8, 13, 21, 34, 55, 89, 144, 233, 377, 610, 987, 1597, 2584, 4181, 6765, 10946, 17711, 28657, 46368, 75025, 121393, 196418, 317811, 514229, 832040, 1346269, 2178309, 3524578, 5702887, 9227465, 14930352, 24157817, 39088169, 63245986, 102334155]   0 ,s\n",
            "41 [0, 1, 1, 2, 3, 5, 8, 13, 21, 34, 55, 89, 144, 233, 377, 610, 987, 1597, 2584, 4181, 6765, 10946, 17711, 28657, 46368, 75025, 121393, 196418, 317811, 514229, 832040, 1346269, 2178309, 3524578, 5702887, 9227465, 14930352, 24157817, 39088169, 63245986, 102334155, 165580141]   0 ,s\n",
            "42 [0, 1, 1, 2, 3, 5, 8, 13, 21, 34, 55, 89, 144, 233, 377, 610, 987, 1597, 2584, 4181, 6765, 10946, 17711, 28657, 46368, 75025, 121393, 196418, 317811, 514229, 832040, 1346269, 2178309, 3524578, 5702887, 9227465, 14930352, 24157817, 39088169, 63245986, 102334155, 165580141, 267914296]   0 ,s\n",
            "43 [0, 1, 1, 2, 3, 5, 8, 13, 21, 34, 55, 89, 144, 233, 377, 610, 987, 1597, 2584, 4181, 6765, 10946, 17711, 28657, 46368, 75025, 121393, 196418, 317811, 514229, 832040, 1346269, 2178309, 3524578, 5702887, 9227465, 14930352, 24157817, 39088169, 63245986, 102334155, 165580141, 267914296, 433494437]   0 ,s\n",
            "44 [0, 1, 1, 2, 3, 5, 8, 13, 21, 34, 55, 89, 144, 233, 377, 610, 987, 1597, 2584, 4181, 6765, 10946, 17711, 28657, 46368, 75025, 121393, 196418, 317811, 514229, 832040, 1346269, 2178309, 3524578, 5702887, 9227465, 14930352, 24157817, 39088169, 63245986, 102334155, 165580141, 267914296, 433494437, 701408733]   0 ,s\n",
            "45 [0, 1, 1, 2, 3, 5, 8, 13, 21, 34, 55, 89, 144, 233, 377, 610, 987, 1597, 2584, 4181, 6765, 10946, 17711, 28657, 46368, 75025, 121393, 196418, 317811, 514229, 832040, 1346269, 2178309, 3524578, 5702887, 9227465, 14930352, 24157817, 39088169, 63245986, 102334155, 165580141, 267914296, 433494437, 701408733, 1134903170]   0 ,s\n",
            "46 [0, 1, 1, 2, 3, 5, 8, 13, 21, 34, 55, 89, 144, 233, 377, 610, 987, 1597, 2584, 4181, 6765, 10946, 17711, 28657, 46368, 75025, 121393, 196418, 317811, 514229, 832040, 1346269, 2178309, 3524578, 5702887, 9227465, 14930352, 24157817, 39088169, 63245986, 102334155, 165580141, 267914296, 433494437, 701408733, 1134903170, 1836311903]   0 ,s\n",
            "47 [0, 1, 1, 2, 3, 5, 8, 13, 21, 34, 55, 89, 144, 233, 377, 610, 987, 1597, 2584, 4181, 6765, 10946, 17711, 28657, 46368, 75025, 121393, 196418, 317811, 514229, 832040, 1346269, 2178309, 3524578, 5702887, 9227465, 14930352, 24157817, 39088169, 63245986, 102334155, 165580141, 267914296, 433494437, 701408733, 1134903170, 1836311903, 2971215073]   0 ,s\n",
            "48 [0, 1, 1, 2, 3, 5, 8, 13, 21, 34, 55, 89, 144, 233, 377, 610, 987, 1597, 2584, 4181, 6765, 10946, 17711, 28657, 46368, 75025, 121393, 196418, 317811, 514229, 832040, 1346269, 2178309, 3524578, 5702887, 9227465, 14930352, 24157817, 39088169, 63245986, 102334155, 165580141, 267914296, 433494437, 701408733, 1134903170, 1836311903, 2971215073, 4807526976]   0 ,s\n",
            "49 [0, 1, 1, 2, 3, 5, 8, 13, 21, 34, 55, 89, 144, 233, 377, 610, 987, 1597, 2584, 4181, 6765, 10946, 17711, 28657, 46368, 75025, 121393, 196418, 317811, 514229, 832040, 1346269, 2178309, 3524578, 5702887, 9227465, 14930352, 24157817, 39088169, 63245986, 102334155, 165580141, 267914296, 433494437, 701408733, 1134903170, 1836311903, 2971215073, 4807526976, 7778742049]   0 ,s\n"
          ]
        }
      ]
    },
    {
      "cell_type": "markdown",
      "source": [
        "### 1.1.22 Write a version of BinarySearch that uses the recursive `rank()` given on page 25 and *traces* the method calls. Each time the recursive method is called, print the argument values `lo` and `hi`, indented by the depth of the recursion. Hint: Add an argument to the recursive method that keeps track of the depth.\n"
      ],
      "metadata": {
        "id": "Cy4k_Y33FqOh"
      }
    },
    {
      "cell_type": "code",
      "source": [
        "def rank(key: int, a: list[int], lo: int, hi: int, depth: int = 0) -> int:\n",
        "  print(f'lo: {lo}, hi: {hi}, depth: {depth}')\n",
        "  depth+=1\n",
        "\n",
        "  if lo > hi:\n",
        "    return -1\n",
        "  mid: int = lo + int((hi - lo) / 2)\n",
        "\n",
        "  if key < a[mid]:\n",
        "    return rank(key, a, lo, mid - 1, depth)\n",
        "  elif key > a[mid]:\n",
        "    return rank(key, a, mid + 1, hi, depth)\n",
        "  else:\n",
        "    return mid\n",
        "\n",
        "\n",
        "test_array = [1, 2, 3, 4, 5, 6, 7, 8, 9, 10, 11]\n",
        "result = rank(8, test_array, 0, len(test_array) - 1)\n",
        "print(result)"
      ],
      "metadata": {
        "colab": {
          "base_uri": "https://localhost:8080/"
        },
        "id": "EvZz_FIK5eZ1",
        "outputId": "8a2ef73e-5aeb-4d88-c401-bf3318572ace"
      },
      "execution_count": 27,
      "outputs": [
        {
          "output_type": "stream",
          "name": "stdout",
          "text": [
            "lo: 0, hi: 10, depth: 0\n",
            "lo: 6, hi: 10, depth: 1\n",
            "lo: 6, hi: 7, depth: 2\n",
            "lo: 7, hi: 7, depth: 3\n",
            "7\n"
          ]
        }
      ]
    },
    {
      "cell_type": "code",
      "source": [],
      "metadata": {
        "id": "vK3t83lcIzzm"
      },
      "execution_count": null,
      "outputs": []
    }
  ]
}