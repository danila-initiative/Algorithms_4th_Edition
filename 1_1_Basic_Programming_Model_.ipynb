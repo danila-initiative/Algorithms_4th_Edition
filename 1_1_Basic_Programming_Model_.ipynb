{
  "nbformat": 4,
  "nbformat_minor": 0,
  "metadata": {
    "colab": {
      "provenance": [],
      "authorship_tag": "ABX9TyPp0fuZkqXUke4P8CRT2Hfp",
      "include_colab_link": true
    },
    "kernelspec": {
      "name": "python3",
      "display_name": "Python 3"
    },
    "language_info": {
      "name": "python"
    }
  },
  "cells": [
    {
      "cell_type": "markdown",
      "metadata": {
        "id": "view-in-github",
        "colab_type": "text"
      },
      "source": [
        "<a href=\"https://colab.research.google.com/github/danila-initiative/Algorithms_4th_Edition/blob/main/1_1_Basic_Programming_Model_.ipynb\" target=\"_parent\"><img src=\"https://colab.research.google.com/assets/colab-badge.svg\" alt=\"Open In Colab\"/></a>"
      ]
    },
    {
      "cell_type": "code",
      "source": [
        "import typing as tp"
      ],
      "metadata": {
        "id": "AcrQVUdauGRq"
      },
      "execution_count": 12,
      "outputs": []
    },
    {
      "cell_type": "markdown",
      "source": [
        "### 1.1.1 Give the value of each of the following expressions  \n",
        "\n",
        "a. ( 0 + 15 ) / 2  \n",
        "b. 2.0e-6 * 100000000.1  \n",
        "c. true && false || true && true."
      ],
      "metadata": {
        "id": "Q6csjP2GrZ8l"
      }
    },
    {
      "cell_type": "code",
      "execution_count": 2,
      "metadata": {
        "id": "zNTLIPpKZlPx",
        "colab": {
          "base_uri": "https://localhost:8080/"
        },
        "outputId": "bd262802-ada9-4edf-ba3b-0a77bf3e242a"
      },
      "outputs": [
        {
          "output_type": "execute_result",
          "data": {
            "text/plain": [
              "7.5"
            ]
          },
          "metadata": {},
          "execution_count": 2
        }
      ],
      "source": [
        "# a\n",
        "(0 + 15) / 2"
      ]
    },
    {
      "cell_type": "code",
      "source": [
        "# b\n",
        "2.0e-6 * 100000000.1"
      ],
      "metadata": {
        "colab": {
          "base_uri": "https://localhost:8080/"
        },
        "id": "bDf-8Rkhr0LG",
        "outputId": "9e0e11d5-27cd-4d6a-d9e6-65b3a829c433"
      },
      "execution_count": 4,
      "outputs": [
        {
          "output_type": "execute_result",
          "data": {
            "text/plain": [
              "200.0000002"
            ]
          },
          "metadata": {},
          "execution_count": 4
        }
      ]
    },
    {
      "cell_type": "code",
      "source": [
        "# c\n",
        "True and False or True and True"
      ],
      "metadata": {
        "colab": {
          "base_uri": "https://localhost:8080/"
        },
        "id": "O8RafcABrzvv",
        "outputId": "e74d77a7-1587-4901-c358-57503211dd37"
      },
      "execution_count": 5,
      "outputs": [
        {
          "output_type": "execute_result",
          "data": {
            "text/plain": [
              "True"
            ]
          },
          "metadata": {},
          "execution_count": 5
        }
      ]
    },
    {
      "cell_type": "markdown",
      "source": [
        "### 1.1.2 Give the type and value of each of the following expressions:\n",
        "a. (1 + 2.236)/2  \n",
        "b. 1 + 2 + 3 + 4.0  \n",
        "c. 4.1 >= 4  \n",
        "d. 1 + 2 + \"3\"  "
      ],
      "metadata": {
        "id": "1-UueTtGrX6Y"
      }
    },
    {
      "cell_type": "code",
      "source": [
        "# a\n",
        "result = (1 + 2.236) / 2\n",
        "\n",
        "print(type(result))\n",
        "print(result)"
      ],
      "metadata": {
        "colab": {
          "base_uri": "https://localhost:8080/"
        },
        "id": "cWMdOb3YsuHx",
        "outputId": "54a01328-5a67-43bc-a620-44ee90794e91"
      },
      "execution_count": 8,
      "outputs": [
        {
          "output_type": "stream",
          "name": "stdout",
          "text": [
            "<class 'float'>\n",
            "1.618\n"
          ]
        }
      ]
    },
    {
      "cell_type": "code",
      "source": [
        "# b\n",
        "result = 1 + 2 + 3 + 4.0\n",
        "\n",
        "print(type(result))\n",
        "print(result)"
      ],
      "metadata": {
        "colab": {
          "base_uri": "https://localhost:8080/"
        },
        "id": "WRf668yrst4k",
        "outputId": "ad125312-9ae7-497b-9895-0f5f81e7a181"
      },
      "execution_count": 9,
      "outputs": [
        {
          "output_type": "stream",
          "name": "stdout",
          "text": [
            "<class 'float'>\n",
            "10.0\n"
          ]
        }
      ]
    },
    {
      "cell_type": "code",
      "source": [
        "# c\n",
        "result = 4.1 >= 4\n",
        "\n",
        "print(type(result))\n",
        "print(result)"
      ],
      "metadata": {
        "colab": {
          "base_uri": "https://localhost:8080/"
        },
        "id": "ZMZu13Bnst1L",
        "outputId": "746ef942-2d79-44d4-b2e1-07c7682e3b02"
      },
      "execution_count": 10,
      "outputs": [
        {
          "output_type": "stream",
          "name": "stdout",
          "text": [
            "<class 'bool'>\n",
            "True\n"
          ]
        }
      ]
    },
    {
      "cell_type": "code",
      "source": [
        "# d\n",
        "result = 1 + 2 + \"3\"\n",
        "\n",
        "print(type(result))\n",
        "print(result)"
      ],
      "metadata": {
        "colab": {
          "base_uri": "https://localhost:8080/",
          "height": 254
        },
        "id": "yQfj9iPwstvD",
        "outputId": "705eb11b-1ded-4656-f9a0-e17c7198dfd7"
      },
      "execution_count": 11,
      "outputs": [
        {
          "output_type": "error",
          "ename": "TypeError",
          "evalue": "ignored",
          "traceback": [
            "\u001b[0;31m---------------------------------------------------------------------------\u001b[0m",
            "\u001b[0;31mTypeError\u001b[0m                                 Traceback (most recent call last)",
            "\u001b[0;32m<ipython-input-11-85ad3008c2ed>\u001b[0m in \u001b[0;36m<cell line: 2>\u001b[0;34m()\u001b[0m\n\u001b[1;32m      1\u001b[0m \u001b[0;31m# d\u001b[0m\u001b[0;34m\u001b[0m\u001b[0;34m\u001b[0m\u001b[0m\n\u001b[0;32m----> 2\u001b[0;31m \u001b[0mresult\u001b[0m \u001b[0;34m=\u001b[0m \u001b[0;36m1\u001b[0m \u001b[0;34m+\u001b[0m \u001b[0;36m2\u001b[0m \u001b[0;34m+\u001b[0m \u001b[0;34m\"3\"\u001b[0m\u001b[0;34m\u001b[0m\u001b[0;34m\u001b[0m\u001b[0m\n\u001b[0m\u001b[1;32m      3\u001b[0m \u001b[0;34m\u001b[0m\u001b[0m\n\u001b[1;32m      4\u001b[0m \u001b[0mprint\u001b[0m\u001b[0;34m(\u001b[0m\u001b[0mtype\u001b[0m\u001b[0;34m(\u001b[0m\u001b[0mresult\u001b[0m\u001b[0;34m)\u001b[0m\u001b[0;34m)\u001b[0m\u001b[0;34m\u001b[0m\u001b[0;34m\u001b[0m\u001b[0m\n\u001b[1;32m      5\u001b[0m \u001b[0mprint\u001b[0m\u001b[0;34m(\u001b[0m\u001b[0mresult\u001b[0m\u001b[0;34m)\u001b[0m\u001b[0;34m\u001b[0m\u001b[0;34m\u001b[0m\u001b[0m\n",
            "\u001b[0;31mTypeError\u001b[0m: unsupported operand type(s) for +: 'int' and 'str'"
          ]
        }
      ]
    },
    {
      "cell_type": "markdown",
      "source": [
        "1.1.5 Write a code fragment that prints true if the double variables x and y are both strictly between 0 and 1 and false otherwise."
      ],
      "metadata": {
        "id": "EF5zVZ-0rUI2"
      }
    },
    {
      "cell_type": "code",
      "source": [
        "def ex_1_1_5(x: float, y: float):\n",
        "  if 0 < x < 1 and 0 < y < 1:\n",
        "    return True\n",
        "  return False\n",
        "\n",
        "print(ex_1_1_5(3, 4))\n",
        "print(ex_1_1_5(-1.0, -2.0))\n",
        "print(ex_1_1_5(-0.7, 0.2))\n",
        "print(ex_1_1_5(0.6, 1.4))\n",
        "print(ex_1_1_5(0.1, 0.9999))"
      ],
      "metadata": {
        "colab": {
          "base_uri": "https://localhost:8080/"
        },
        "id": "ebstHDTat4b0",
        "outputId": "e8c4f0dd-6379-49a8-c0f4-19f7e45a1712"
      },
      "execution_count": 17,
      "outputs": [
        {
          "output_type": "stream",
          "name": "stdout",
          "text": [
            "False\n",
            "False\n",
            "False\n",
            "False\n",
            "True\n"
          ]
        }
      ]
    },
    {
      "cell_type": "markdown",
      "source": [
        "### 1.1.6 What does the following program print?\n",
        "```Java\n",
        "    int f = 0;\n",
        "    int g = 1;\n",
        "    for (int i = 0; i <= 15; i++)\n",
        "    {\n",
        "       StdOut.println(f);\n",
        "       f = f + g;\n",
        "       g = f - g;\n",
        "    }\n",
        "```"
      ],
      "metadata": {
        "id": "3mh-olMdvV5-"
      }
    },
    {
      "cell_type": "code",
      "source": [],
      "metadata": {
        "id": "iiAn9VjvuRgc"
      },
      "execution_count": null,
      "outputs": []
    }
  ]
}